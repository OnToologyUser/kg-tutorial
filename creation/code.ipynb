{
  "nbformat": 4,
  "nbformat_minor": 0,
  "metadata": {
    "colab": {
      "provenance": []
    },
    "kernelspec": {
      "name": "python3",
      "display_name": "Python 3"
    },
    "language_info": {
      "name": "python"
    }
  },
  "cells": [
    {
      "cell_type": "code",
      "execution_count": null,
      "metadata": {
        "id": "4V8OOxmEteTQ"
      },
      "outputs": [],
      "source": [
        "!pip install morph-kgc\n",
        "!pip install yarrrml-translator"
      ]
    },
    {
      "cell_type": "code",
      "source": [
        "import morph_kgc\n",
        "import yaml\n",
        "from yarrrml_translator import translate"
      ],
      "metadata": {
        "id": "eo8Bq7fUt6k_"
      },
      "execution_count": null,
      "outputs": []
    },
    {
      "cell_type": "code",
      "source": [
        "mapping = translate(yaml.safe_load(open(\"./mapping.yml\")))\n",
        "output_file = open(\"./mapping.ttl\", \"w\")\n",
        "output_file.write(mapping)\n",
        "output_file.close()"
      ],
      "metadata": {
        "id": "ILEj2OCVupVz"
      },
      "execution_count": null,
      "outputs": []
    },
    {
      "cell_type": "code",
      "source": [
        "g_rdflib = morph_kgc.materialize('./config.ini')\n",
        "\n",
        "for s,p,o in g_rdflib.triples((None, None, None)):\n",
        "  print(s,p,o)"
      ],
      "metadata": {
        "id": "lUjkGoTtvILK"
      },
      "execution_count": null,
      "outputs": []
    }
  ]
}