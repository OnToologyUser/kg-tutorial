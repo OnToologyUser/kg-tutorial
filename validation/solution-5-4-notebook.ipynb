{
  "nbformat": 4,
  "nbformat_minor": 0,
  "metadata": {
    "colab": {
      "provenance": []
    },
    "kernelspec": {
      "name": "python3",
      "display_name": "Python 3"
    },
    "language_info": {
      "name": "python"
    }
  },
  "cells": [
    {
      "cell_type": "code",
      "execution_count": 2,
      "metadata": {
        "colab": {
          "base_uri": "https://localhost:8080/"
        },
        "id": "fUr-HCTF6oFQ",
        "outputId": "71db333f-245f-404b-e639-ca845ad4c06a"
      },
      "outputs": [
        {
          "output_type": "stream",
          "name": "stdout",
          "text": [
            "Looking in indexes: https://pypi.org/simple, https://us-python.pkg.dev/colab-wheels/public/simple/\n",
            "Collecting pyshacl\n",
            "  Downloading pyshacl-0.20.0-py3-none-any.whl (1.2 MB)\n",
            "\u001b[K     |████████████████████████████████| 1.2 MB 5.2 MB/s \n",
            "\u001b[?25hCollecting owlrl<7,>=6.0.2\n",
            "  Downloading owlrl-6.0.2-py3-none-any.whl (54 kB)\n",
            "\u001b[K     |████████████████████████████████| 54 kB 2.8 MB/s \n",
            "\u001b[?25hCollecting rdflib<7,>=6.2.0\n",
            "  Downloading rdflib-6.2.0-py3-none-any.whl (500 kB)\n",
            "\u001b[K     |████████████████████████████████| 500 kB 44.3 MB/s \n",
            "\u001b[?25hRequirement already satisfied: packaging>=21.3 in /usr/local/lib/python3.7/dist-packages (from pyshacl) (21.3)\n",
            "Collecting prettytable<3.0.0,>=2.2.1\n",
            "  Downloading prettytable-2.5.0-py3-none-any.whl (24 kB)\n",
            "Collecting html5lib<2,>=1.1\n",
            "  Downloading html5lib-1.1-py2.py3-none-any.whl (112 kB)\n",
            "\u001b[K     |████████████████████████████████| 112 kB 50.4 MB/s \n",
            "\u001b[?25hRequirement already satisfied: webencodings in /usr/local/lib/python3.7/dist-packages (from html5lib<2,>=1.1->pyshacl) (0.5.1)\n",
            "Requirement already satisfied: six>=1.9 in /usr/local/lib/python3.7/dist-packages (from html5lib<2,>=1.1->pyshacl) (1.15.0)\n",
            "Requirement already satisfied: pyparsing!=3.0.5,>=2.0.2 in /usr/local/lib/python3.7/dist-packages (from packaging>=21.3->pyshacl) (3.0.9)\n",
            "Requirement already satisfied: wcwidth in /usr/local/lib/python3.7/dist-packages (from prettytable<3.0.0,>=2.2.1->pyshacl) (0.2.5)\n",
            "Requirement already satisfied: importlib-metadata in /usr/local/lib/python3.7/dist-packages (from prettytable<3.0.0,>=2.2.1->pyshacl) (4.13.0)\n",
            "Requirement already satisfied: setuptools in /usr/local/lib/python3.7/dist-packages (from rdflib<7,>=6.2.0->pyshacl) (57.4.0)\n",
            "Collecting isodate\n",
            "  Downloading isodate-0.6.1-py2.py3-none-any.whl (41 kB)\n",
            "\u001b[K     |████████████████████████████████| 41 kB 527 kB/s \n",
            "\u001b[?25hRequirement already satisfied: typing-extensions>=3.6.4 in /usr/local/lib/python3.7/dist-packages (from importlib-metadata->prettytable<3.0.0,>=2.2.1->pyshacl) (4.1.1)\n",
            "Requirement already satisfied: zipp>=0.5 in /usr/local/lib/python3.7/dist-packages (from importlib-metadata->prettytable<3.0.0,>=2.2.1->pyshacl) (3.10.0)\n",
            "Installing collected packages: isodate, rdflib, prettytable, owlrl, html5lib, pyshacl\n",
            "  Attempting uninstall: prettytable\n",
            "    Found existing installation: prettytable 3.4.1\n",
            "    Uninstalling prettytable-3.4.1:\n",
            "      Successfully uninstalled prettytable-3.4.1\n",
            "  Attempting uninstall: html5lib\n",
            "    Found existing installation: html5lib 1.0.1\n",
            "    Uninstalling html5lib-1.0.1:\n",
            "      Successfully uninstalled html5lib-1.0.1\n",
            "Successfully installed html5lib-1.1 isodate-0.6.1 owlrl-6.0.2 prettytable-2.5.0 pyshacl-0.20.0 rdflib-6.2.0\n"
          ]
        }
      ],
      "source": [
        "! pip3 install pyshacl"
      ]
    },
    {
      "cell_type": "code",
      "source": [
        "from pyshacl import validate\n",
        "from rdflib import Graph"
      ],
      "metadata": {
        "id": "_BFvs80sDZIr"
      },
      "execution_count": 9,
      "outputs": []
    },
    {
      "cell_type": "code",
      "source": [
        "shacl_1 = Graph()\n",
        "shacl_1.parse(\"./solution-5-1.ttl\")\n",
        "data = Graph()\n",
        "data.parse(\"./data.ttl\")\n",
        "conforms, results_graph, results_text = validate(shacl_1,data)\n",
        "print(results_text)"
      ],
      "metadata": {
        "colab": {
          "base_uri": "https://localhost:8080/"
        },
        "id": "FlS2jbMWDeYD",
        "outputId": "7a627aac-2b39-46fd-db51-f3617185f21c"
      },
      "execution_count": 10,
      "outputs": [
        {
          "output_type": "stream",
          "name": "stdout",
          "text": [
            "Validation Report\n",
            "Conforms: True\n",
            "\n"
          ]
        }
      ]
    },
    {
      "cell_type": "code",
      "source": [
        "shacl_2 = Graph()\n",
        "shacl_2.parse(\"./solution-5-2.ttl\")\n",
        "conforms, results_graph, results_text = validate(shacl_2,data)\n",
        "print(results_text)"
      ],
      "metadata": {
        "colab": {
          "base_uri": "https://localhost:8080/"
        },
        "id": "VjVB1bvYETCX",
        "outputId": "609b3fa4-6f97-4649-ac49-a935f0f9826c"
      },
      "execution_count": 11,
      "outputs": [
        {
          "output_type": "stream",
          "name": "stdout",
          "text": [
            "Validation Report\n",
            "Conforms: True\n",
            "\n"
          ]
        }
      ]
    },
    {
      "cell_type": "code",
      "source": [
        "shacl_3 = Graph()\n",
        "shacl_3.parse(\"./solution-5-3.ttl\")\n",
        "conforms, results_graph, results_text = validate(shacl_3,data)\n",
        "print(results_text)"
      ],
      "metadata": {
        "colab": {
          "base_uri": "https://localhost:8080/"
        },
        "id": "DOxzrYxZEYkg",
        "outputId": "bd7b8e9d-09b2-484d-a997-647f940f9518"
      },
      "execution_count": 12,
      "outputs": [
        {
          "output_type": "stream",
          "name": "stdout",
          "text": [
            "Validation Report\n",
            "Conforms: True\n",
            "\n"
          ]
        }
      ]
    }
  ]
}